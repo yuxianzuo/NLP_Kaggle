{
 "cells": [
  {
   "cell_type": "code",
   "execution_count": null,
   "metadata": {},
   "outputs": [],
   "source": [
    "import pandas as pd\n",
    "import matplotlib.pyplot as plt\n",
    "import os\n",
    "import fasttext"
   ]
  },
  {
   "cell_type": "markdown",
   "metadata": {},
   "source": [
    "## Data exploration"
   ]
  },
  {
   "cell_type": "code",
   "execution_count": 2,
   "metadata": {},
   "outputs": [
    {
     "name": "stdout",
     "output_type": "stream",
     "text": [
      "dataset size: (190599, 3)\n"
     ]
    }
   ],
   "source": [
    "train_data = pd.read_csv(\"train_submission.csv\")\n",
    "print(f\"dataset size: {train_data.shape}\")"
   ]
  },
  {
   "cell_type": "code",
   "execution_count": 3,
   "metadata": {},
   "outputs": [
    {
     "data": {
      "text/html": [
       "<div>\n",
       "<style scoped>\n",
       "    .dataframe tbody tr th:only-of-type {\n",
       "        vertical-align: middle;\n",
       "    }\n",
       "\n",
       "    .dataframe tbody tr th {\n",
       "        vertical-align: top;\n",
       "    }\n",
       "\n",
       "    .dataframe thead th {\n",
       "        text-align: right;\n",
       "    }\n",
       "</style>\n",
       "<table border=\"1\" class=\"dataframe\">\n",
       "  <thead>\n",
       "    <tr style=\"text-align: right;\">\n",
       "      <th></th>\n",
       "      <th>Usage</th>\n",
       "      <th>Text</th>\n",
       "      <th>Label</th>\n",
       "    </tr>\n",
       "  </thead>\n",
       "  <tbody>\n",
       "    <tr>\n",
       "      <th>0</th>\n",
       "      <td>Public</td>\n",
       "      <td>َ قَالَ النَّبِيُّ ص إِنِّي أَتَعَجَّبُ مِمَّن...</td>\n",
       "      <td>hau</td>\n",
       "    </tr>\n",
       "    <tr>\n",
       "      <th>1</th>\n",
       "      <td>Public</td>\n",
       "      <td>Filmen forteller historien om Will Hunting  en...</td>\n",
       "      <td>nob</td>\n",
       "    </tr>\n",
       "    <tr>\n",
       "      <th>2</th>\n",
       "      <td>Public</td>\n",
       "      <td>An Arthrostylidium berryi in uska species han ...</td>\n",
       "      <td>wln</td>\n",
       "    </tr>\n",
       "    <tr>\n",
       "      <th>3</th>\n",
       "      <td>Public</td>\n",
       "      <td>Kancunarí enemigosniyquichejta munacuychej  al...</td>\n",
       "      <td>quh</td>\n",
       "    </tr>\n",
       "    <tr>\n",
       "      <th>4</th>\n",
       "      <td>Public</td>\n",
       "      <td>Warmeqa ama yachachichunchu hermanospa tantaku...</td>\n",
       "      <td>quh</td>\n",
       "    </tr>\n",
       "  </tbody>\n",
       "</table>\n",
       "</div>"
      ],
      "text/plain": [
       "    Usage                                               Text Label\n",
       "0  Public  َ قَالَ النَّبِيُّ ص إِنِّي أَتَعَجَّبُ مِمَّن...   hau\n",
       "1  Public  Filmen forteller historien om Will Hunting  en...   nob\n",
       "2  Public  An Arthrostylidium berryi in uska species han ...   wln\n",
       "3  Public  Kancunarí enemigosniyquichejta munacuychej  al...   quh\n",
       "4  Public  Warmeqa ama yachachichunchu hermanospa tantaku...   quh"
      ]
     },
     "execution_count": 3,
     "metadata": {},
     "output_type": "execute_result"
    }
   ],
   "source": [
    "train_data.head()"
   ]
  },
  {
   "cell_type": "code",
   "execution_count": 4,
   "metadata": {},
   "outputs": [],
   "source": [
    "train_data = train_data.dropna(subset=[\"Label\"])"
   ]
  },
  {
   "cell_type": "code",
   "execution_count": 5,
   "metadata": {},
   "outputs": [
    {
     "name": "stdout",
     "output_type": "stream",
     "text": [
      "<class 'pandas.core.frame.DataFrame'>\n",
      "Index: 190099 entries, 0 to 190598\n",
      "Data columns (total 3 columns):\n",
      " #   Column  Non-Null Count   Dtype \n",
      "---  ------  --------------   ----- \n",
      " 0   Usage   190099 non-null  object\n",
      " 1   Text    190099 non-null  object\n",
      " 2   Label   190099 non-null  object\n",
      "dtypes: object(3)\n",
      "memory usage: 5.8+ MB\n"
     ]
    }
   ],
   "source": [
    "train_data.info()"
   ]
  },
  {
   "cell_type": "code",
   "execution_count": 6,
   "metadata": {},
   "outputs": [
    {
     "name": "stdout",
     "output_type": "stream",
     "text": [
      "Total duplicated instances: 76\n"
     ]
    },
    {
     "data": {
      "text/html": [
       "<div>\n",
       "<style scoped>\n",
       "    .dataframe tbody tr th:only-of-type {\n",
       "        vertical-align: middle;\n",
       "    }\n",
       "\n",
       "    .dataframe tbody tr th {\n",
       "        vertical-align: top;\n",
       "    }\n",
       "\n",
       "    .dataframe thead th {\n",
       "        text-align: right;\n",
       "    }\n",
       "</style>\n",
       "<table border=\"1\" class=\"dataframe\">\n",
       "  <thead>\n",
       "    <tr style=\"text-align: right;\">\n",
       "      <th></th>\n",
       "      <th>Usage</th>\n",
       "      <th>Text</th>\n",
       "      <th>Label</th>\n",
       "    </tr>\n",
       "  </thead>\n",
       "  <tbody>\n",
       "    <tr>\n",
       "      <th>189233</th>\n",
       "      <td>Public</td>\n",
       "      <td>(b) Iminyaka emithathu sele idlulile ikoro ikh...</td>\n",
       "      <td>nde</td>\n",
       "    </tr>\n",
       "    <tr>\n",
       "      <th>140827</th>\n",
       "      <td>Public</td>\n",
       "      <td>(b) Iminyaka emithathu sele idlulile ikoro ikh...</td>\n",
       "      <td>nbl</td>\n",
       "    </tr>\n",
       "    <tr>\n",
       "      <th>133968</th>\n",
       "      <td>Public</td>\n",
       "      <td>2006: Páginas da Vida ... Marina Andrade Rangel</td>\n",
       "      <td>srn</td>\n",
       "    </tr>\n",
       "    <tr>\n",
       "      <th>54491</th>\n",
       "      <td>Public</td>\n",
       "      <td>2006: Páginas da Vida ... Marina Andrade Rangel</td>\n",
       "      <td>csb</td>\n",
       "    </tr>\n",
       "    <tr>\n",
       "      <th>90599</th>\n",
       "      <td>Public</td>\n",
       "      <td>Abahloli ababuya kumasipala bazakuqalisisa iko...</td>\n",
       "      <td>nde</td>\n",
       "    </tr>\n",
       "    <tr>\n",
       "      <th>46305</th>\n",
       "      <td>Public</td>\n",
       "      <td>Abahloli ababuya kumasipala bazakuqalisisa iko...</td>\n",
       "      <td>nbl</td>\n",
       "    </tr>\n",
       "    <tr>\n",
       "      <th>74551</th>\n",
       "      <td>Public</td>\n",
       "      <td>Campbell  Lyle; &amp; Mithun  Marianne (Eds.). (19...</td>\n",
       "      <td>hsb</td>\n",
       "    </tr>\n",
       "    <tr>\n",
       "      <th>44634</th>\n",
       "      <td>Public</td>\n",
       "      <td>Campbell  Lyle; &amp; Mithun  Marianne (Eds.). (19...</td>\n",
       "      <td>rmy</td>\n",
       "    </tr>\n",
       "    <tr>\n",
       "      <th>64261</th>\n",
       "      <td>Public</td>\n",
       "      <td>Da Ort hod bei da Voikszejung 94</td>\n",
       "      <td>hin</td>\n",
       "    </tr>\n",
       "    <tr>\n",
       "      <th>178069</th>\n",
       "      <td>Public</td>\n",
       "      <td>Da Ort hod bei da Voikszejung 94</td>\n",
       "      <td>mwl</td>\n",
       "    </tr>\n",
       "    <tr>\n",
       "      <th>141957</th>\n",
       "      <td>Public</td>\n",
       "      <td>Da Ort hod bei da Voikszejung 94</td>\n",
       "      <td>nso</td>\n",
       "    </tr>\n",
       "    <tr>\n",
       "      <th>81252</th>\n",
       "      <td>Public</td>\n",
       "      <td>Der König des Schreckens :  ein Vatikan-Krimi ...</td>\n",
       "      <td>jam</td>\n",
       "    </tr>\n",
       "    <tr>\n",
       "      <th>6149</th>\n",
       "      <td>Public</td>\n",
       "      <td>Der König des Schreckens :  ein Vatikan-Krimi ...</td>\n",
       "      <td>pfl</td>\n",
       "    </tr>\n",
       "    <tr>\n",
       "      <th>18477</th>\n",
       "      <td>Public</td>\n",
       "      <td>Die Schwarze Zeit VI : Terra re-mota – Roman (...</td>\n",
       "      <td>jam</td>\n",
       "    </tr>\n",
       "    <tr>\n",
       "      <th>59594</th>\n",
       "      <td>Public</td>\n",
       "      <td>Die Schwarze Zeit VI : Terra re-mota – Roman (...</td>\n",
       "      <td>pcd</td>\n",
       "    </tr>\n",
       "    <tr>\n",
       "      <th>161836</th>\n",
       "      <td>Public</td>\n",
       "      <td>Edward Akufo-Addo (wɔ woo no June da ɛtɔ so 26...</td>\n",
       "      <td>aka</td>\n",
       "    </tr>\n",
       "    <tr>\n",
       "      <th>157629</th>\n",
       "      <td>Public</td>\n",
       "      <td>Edward Akufo-Addo (wɔ woo no June da ɛtɔ so 26...</td>\n",
       "      <td>twi</td>\n",
       "    </tr>\n",
       "    <tr>\n",
       "      <th>51917</th>\n",
       "      <td>Public</td>\n",
       "      <td>Incwadi le ungayithola ngelimi lemthethweni ol...</td>\n",
       "      <td>nde</td>\n",
       "    </tr>\n",
       "    <tr>\n",
       "      <th>133412</th>\n",
       "      <td>Public</td>\n",
       "      <td>Incwadi le ungayithola ngelimi lemthethweni ol...</td>\n",
       "      <td>nbl</td>\n",
       "    </tr>\n",
       "    <tr>\n",
       "      <th>125245</th>\n",
       "      <td>Public</td>\n",
       "      <td>Kalau kepengin dapat trafik pengunjung gratis ...</td>\n",
       "      <td>ban</td>\n",
       "    </tr>\n",
       "  </tbody>\n",
       "</table>\n",
       "</div>"
      ],
      "text/plain": [
       "         Usage                                               Text Label\n",
       "189233  Public  (b) Iminyaka emithathu sele idlulile ikoro ikh...   nde\n",
       "140827  Public  (b) Iminyaka emithathu sele idlulile ikoro ikh...   nbl\n",
       "133968  Public    2006: Páginas da Vida ... Marina Andrade Rangel   srn\n",
       "54491   Public    2006: Páginas da Vida ... Marina Andrade Rangel   csb\n",
       "90599   Public  Abahloli ababuya kumasipala bazakuqalisisa iko...   nde\n",
       "46305   Public  Abahloli ababuya kumasipala bazakuqalisisa iko...   nbl\n",
       "74551   Public  Campbell  Lyle; & Mithun  Marianne (Eds.). (19...   hsb\n",
       "44634   Public  Campbell  Lyle; & Mithun  Marianne (Eds.). (19...   rmy\n",
       "64261   Public                   Da Ort hod bei da Voikszejung 94   hin\n",
       "178069  Public                   Da Ort hod bei da Voikszejung 94   mwl\n",
       "141957  Public                   Da Ort hod bei da Voikszejung 94   nso\n",
       "81252   Public  Der König des Schreckens :  ein Vatikan-Krimi ...   jam\n",
       "6149    Public  Der König des Schreckens :  ein Vatikan-Krimi ...   pfl\n",
       "18477   Public  Die Schwarze Zeit VI : Terra re-mota – Roman (...   jam\n",
       "59594   Public  Die Schwarze Zeit VI : Terra re-mota – Roman (...   pcd\n",
       "161836  Public  Edward Akufo-Addo (wɔ woo no June da ɛtɔ so 26...   aka\n",
       "157629  Public  Edward Akufo-Addo (wɔ woo no June da ɛtɔ so 26...   twi\n",
       "51917   Public  Incwadi le ungayithola ngelimi lemthethweni ol...   nde\n",
       "133412  Public  Incwadi le ungayithola ngelimi lemthethweni ol...   nbl\n",
       "125245  Public  Kalau kepengin dapat trafik pengunjung gratis ...   ban"
      ]
     },
     "execution_count": 6,
     "metadata": {},
     "output_type": "execute_result"
    }
   ],
   "source": [
    "# Find duplicated texts\n",
    "duplicated_texts = train_data[train_data.duplicated(subset=[\"Text\"], keep=False)]\n",
    "\n",
    "print(f\"Total duplicated instances: {duplicated_texts.shape[0]}\")\n",
    "duplicated_texts.sort_values(by=\"Text\").head(20)"
   ]
  },
  {
   "cell_type": "code",
   "execution_count": 7,
   "metadata": {},
   "outputs": [],
   "source": [
    "# train_data = train_data[~train_data.duplicated(subset=[\"Text\"], keep=False)].reset_index(drop=True) # keep=False removes all occurrences"
   ]
  },
  {
   "cell_type": "code",
   "execution_count": 8,
   "metadata": {},
   "outputs": [
    {
     "name": "stdout",
     "output_type": "stream",
     "text": [
      "190099\n"
     ]
    }
   ],
   "source": [
    "print(train_data.shape[0])"
   ]
  },
  {
   "cell_type": "code",
   "execution_count": 9,
   "metadata": {},
   "outputs": [
    {
     "data": {
      "text/plain": [
       "Label\n",
       "tgk    1500\n",
       "kur    1000\n",
       "hin    1000\n",
       "aze    1000\n",
       "bak    1000\n",
       "       ... \n",
       "tvl       2\n",
       "toi       1\n",
       "kua       1\n",
       "gcr       1\n",
       "gaa       1\n",
       "Name: count, Length: 389, dtype: int64"
      ]
     },
     "execution_count": 9,
     "metadata": {},
     "output_type": "execute_result"
    }
   ],
   "source": [
    "train_data[\"Label\"].value_counts()"
   ]
  },
  {
   "cell_type": "code",
   "execution_count": 10,
   "metadata": {},
   "outputs": [
    {
     "name": "stdout",
     "output_type": "stream",
     "text": [
      "New dataset size after filtering: (190074, 3)\n"
     ]
    }
   ],
   "source": [
    "label_counts = train_data[\"Label\"].value_counts()\n",
    "\n",
    "# Filter out labels with less than 10 instances\n",
    "valid_labels = label_counts[label_counts >= 5].index\n",
    "train_data = train_data[train_data[\"Label\"].isin(valid_labels)]\n",
    "\n",
    "print(f\"New dataset size after filtering: {train_data.shape}\")"
   ]
  },
  {
   "cell_type": "code",
   "execution_count": 11,
   "metadata": {},
   "outputs": [
    {
     "data": {
      "text/plain": [
       "Label\n",
       "tgk    1500\n",
       "kur    1000\n",
       "hin    1000\n",
       "aze    1000\n",
       "bak    1000\n",
       "       ... \n",
       "ksw      13\n",
       "iba      10\n",
       "ngl       7\n",
       "quz       5\n",
       "teo       5\n",
       "Name: count, Length: 377, dtype: int64"
      ]
     },
     "execution_count": 11,
     "metadata": {},
     "output_type": "execute_result"
    }
   ],
   "source": [
    "train_data[\"Label\"].value_counts()"
   ]
  },
  {
   "cell_type": "code",
   "execution_count": 12,
   "metadata": {},
   "outputs": [
    {
     "name": "stderr",
     "output_type": "stream",
     "text": [
      "Warning : `load_model` does not return WordVectorModel or SupervisedModel any more, but a `FastText` object which is very similar.\n"
     ]
    }
   ],
   "source": [
    "model = fasttext.FastText.load_model(\"lid.176.bin\")\n",
    "\n",
    "train_data[\"FastText_Lang\"] = train_data[\"Text\"].apply(\n",
    "    lambda x: model.predict(str(x))[0][0].replace(\"__label__\", \"\") if isinstance(x, str) else \"unknown\"\n",
    ")"
   ]
  },
  {
   "cell_type": "code",
   "execution_count": 13,
   "metadata": {},
   "outputs": [
    {
     "data": {
      "text/plain": [
       "FastText_Lang\n",
       "en     24619\n",
       "es     12446\n",
       "id      6549\n",
       "tl      6310\n",
       "it      5333\n",
       "       ...  \n",
       "hif        6\n",
       "te         5\n",
       "xal        4\n",
       "rue        3\n",
       "pfl        2\n",
       "Name: count, Length: 174, dtype: int64"
      ]
     },
     "execution_count": 13,
     "metadata": {},
     "output_type": "execute_result"
    }
   ],
   "source": [
    "train_data[\"FastText_Lang\"].value_counts()"
   ]
  },
  {
   "cell_type": "code",
   "execution_count": 14,
   "metadata": {},
   "outputs": [
    {
     "name": "stdout",
     "output_type": "stream",
     "text": [
      "0\n"
     ]
    }
   ],
   "source": [
    "print((train_data[\"FastText_Lang\"] == \"unknown\").sum())"
   ]
  },
  {
   "cell_type": "code",
   "execution_count": 15,
   "metadata": {},
   "outputs": [
    {
     "data": {
      "image/png": "[encoded data removed]",
      "text/plain": [
       "<Figure size 1500x600 with 1 Axes>"
      ]
     },
     "metadata": {},
     "output_type": "display_data"
    }
   ],
   "source": [
    "# Get the top 20 languages\n",
    "top_20_languages = train_data[\"FastText_Lang\"].value_counts().nlargest(30)\n",
    "\n",
    "plt.figure(figsize=(15, 6))\n",
    "plt.bar(range(len(top_20_languages)), top_20_languages.values, width=0.8)\n",
    "plt.xticks(range(len(top_20_languages)), top_20_languages.index, rotation=90, fontsize=10)\n",
    "plt.xlabel(\"Languages\")\n",
    "plt.ylabel(\"Count\")\n",
    "plt.title(\"Top 20 Detected Languages\")\n",
    "plt.xlim(-0.5, len(top_20_languages) - 0.5)\n",
    "plt.show()"
   ]
  },
  {
   "cell_type": "code",
   "execution_count": 16,
   "metadata": {},
   "outputs": [
    {
     "data": {
      "text/plain": [
       "FastText_Lang\n",
       "en    24619\n",
       "es    12446\n",
       "id     6549\n",
       "tl     6310\n",
       "it     5333\n",
       "ar     4772\n",
       "fi     4769\n",
       "sw     4201\n",
       "de     4182\n",
       "ru     3180\n",
       "Name: count, dtype: int64"
      ]
     },
     "execution_count": 16,
     "metadata": {},
     "output_type": "execute_result"
    }
   ],
   "source": [
    "train_data[\"FastText_Lang\"].value_counts().head(10)"
   ]
  },
  {
   "cell_type": "markdown",
   "metadata": {},
   "source": [
    "## Fine-tunning"
   ]
  },
  {
   "cell_type": "code",
   "execution_count": 17,
   "metadata": {},
   "outputs": [
    {
     "name": "stdout",
     "output_type": "stream",
     "text": [
      "<class 'pandas.core.frame.DataFrame'>\n",
      "Index: 190074 entries, 0 to 190598\n",
      "Data columns (total 4 columns):\n",
      " #   Column         Non-Null Count   Dtype \n",
      "---  ------         --------------   ----- \n",
      " 0   Usage          190074 non-null  object\n",
      " 1   Text           190074 non-null  object\n",
      " 2   Label          190074 non-null  object\n",
      " 3   FastText_Lang  190074 non-null  object\n",
      "dtypes: object(4)\n",
      "memory usage: 7.3+ MB\n"
     ]
    }
   ],
   "source": [
    "df = train_data\n",
    "df.info()"
   ]
  },
  {
   "cell_type": "code",
   "execution_count": 18,
   "metadata": {},
   "outputs": [
    {
     "data": {
      "text/plain": [
       "Label\n",
       "tgk    1500\n",
       "kur    1000\n",
       "hin    1000\n",
       "aze    1000\n",
       "bak    1000\n",
       "       ... \n",
       "ksw      13\n",
       "iba      10\n",
       "ngl       7\n",
       "quz       5\n",
       "teo       5\n",
       "Name: count, Length: 377, dtype: int64"
      ]
     },
     "execution_count": 18,
     "metadata": {},
     "output_type": "execute_result"
    }
   ],
   "source": [
    "df['Label'].value_counts()"
   ]
  },
  {
   "cell_type": "code",
   "execution_count": 19,
   "metadata": {},
   "outputs": [],
   "source": [
    "import torch\n",
    "from sklearn.model_selection import train_test_split\n",
    "from transformers import AutoTokenizer, AutoModelForSequenceClassification\n",
    "from torch.utils.data import Dataset, DataLoader\n",
    "import torch.nn as nn\n",
    "import torch.optim as optim\n",
    "from transformers import get_scheduler\n",
    "from tqdm.auto import tqdm"
   ]
  },
  {
   "cell_type": "code",
   "execution_count": 20,
   "metadata": {},
   "outputs": [
    {
     "name": "stdout",
     "output_type": "stream",
     "text": [
      "cuda:0\n"
     ]
    }
   ],
   "source": [
    "device = torch.device(\"cuda:0\" if torch.cuda.is_available() else \"cpu\")\n",
    "print(device)"
   ]
  },
  {
   "cell_type": "code",
   "execution_count": 21,
   "metadata": {},
   "outputs": [],
   "source": [
    "label_to_int = {label: i for i, label in enumerate(df[\"Label\"].unique())}\n",
    "df[\"Label\"] = df[\"Label\"].map(label_to_int)"
   ]
  },
  {
   "cell_type": "code",
   "execution_count": 22,
   "metadata": {},
   "outputs": [],
   "source": [
    "# Stratified split (80% Train, 20% Validation)\n",
    "train_texts, val_texts, train_labels, val_labels = train_test_split(\n",
    "    df[\"Text\"].tolist(),\n",
    "    df[\"Label\"].tolist(),\n",
    "    test_size=0.2,\n",
    "    stratify=df[\"Label\"],\n",
    "    random_state=42\n",
    ")"
   ]
  },
  {
   "cell_type": "code",
   "execution_count": 23,
   "metadata": {},
   "outputs": [],
   "source": [
    "tokenizer = AutoTokenizer.from_pretrained(\"bert-base-multilingual-cased\", use_fast=True)"
   ]
  },
  {
   "cell_type": "code",
   "execution_count": 24,
   "metadata": {},
   "outputs": [],
   "source": [
    "def tokenize_function(texts):\n",
    "    return tokenizer(texts, padding=\"max_length\", truncation=True, max_length=256, return_tensors=\"pt\")"
   ]
  },
  {
   "cell_type": "code",
   "execution_count": 25,
   "metadata": {},
   "outputs": [],
   "source": [
    "train_encodings = tokenize_function(train_texts)\n",
    "val_encodings = tokenize_function(val_texts)"
   ]
  },
  {
   "cell_type": "code",
   "execution_count": 26,
   "metadata": {},
   "outputs": [],
   "source": [
    "class TextDataset(Dataset):\n",
    "    def __init__(self, encodings, labels):\n",
    "        self.encodings = encodings\n",
    "        self.labels = labels\n",
    "\n",
    "    def __len__(self):\n",
    "        return len(self.labels)\n",
    "\n",
    "    def __getitem__(self, idx):\n",
    "        item = {key: val[idx] for key, val in self.encodings.items()}\n",
    "        item[\"labels\"] = torch.tensor(self.labels[idx])\n",
    "        return item"
   ]
  },
  {
   "cell_type": "code",
   "execution_count": 27,
   "metadata": {},
   "outputs": [],
   "source": [
    "train_dataset = TextDataset(train_encodings, train_labels)\n",
    "val_dataset = TextDataset(val_encodings, val_labels)\n",
    "\n",
    "train_dataloader = DataLoader(train_dataset, shuffle=True, batch_size=16)\n",
    "val_dataloader = DataLoader(val_dataset, batch_size=16)"
   ]
  },
  {
   "cell_type": "code",
   "execution_count": 28,
   "metadata": {},
   "outputs": [
    {
     "name": "stdout",
     "output_type": "stream",
     "text": [
      "377\n"
     ]
    }
   ],
   "source": [
    "num_labels = len(label_to_int)\n",
    "print(num_labels)"
   ]
  },
  {
   "cell_type": "code",
   "execution_count": 29,
   "metadata": {},
   "outputs": [
    {
     "name": "stderr",
     "output_type": "stream",
     "text": [
      "Some weights of BertForSequenceClassification were not initialized from the model checkpoint at bert-base-multilingual-cased and are newly initialized: ['classifier.bias', 'classifier.weight']\n",
      "You should probably TRAIN this model on a down-stream task to be able to use it for predictions and inference.\n"
     ]
    },
    {
     "data": {
      "text/plain": [
       "BertForSequenceClassification(\n",
       "  (bert): BertModel(\n",
       "    (embeddings): BertEmbeddings(\n",
       "      (word_embeddings): Embedding(119547, 768, padding_idx=0)\n",
       "      (position_embeddings): Embedding(512, 768)\n",
       "      (token_type_embeddings): Embedding(2, 768)\n",
       "      (LayerNorm): LayerNorm((768,), eps=1e-12, elementwise_affine=True)\n",
       "      (dropout): Dropout(p=0.1, inplace=False)\n",
       "    )\n",
       "    (encoder): BertEncoder(\n",
       "      (layer): ModuleList(\n",
       "        (0-11): 12 x BertLayer(\n",
       "          (attention): BertAttention(\n",
       "            (self): BertSdpaSelfAttention(\n",
       "              (query): Linear(in_features=768, out_features=768, bias=True)\n",
       "              (key): Linear(in_features=768, out_features=768, bias=True)\n",
       "              (value): Linear(in_features=768, out_features=768, bias=True)\n",
       "              (dropout): Dropout(p=0.1, inplace=False)\n",
       "            )\n",
       "            (output): BertSelfOutput(\n",
       "              (dense): Linear(in_features=768, out_features=768, bias=True)\n",
       "              (LayerNorm): LayerNorm((768,), eps=1e-12, elementwise_affine=True)\n",
       "              (dropout): Dropout(p=0.1, inplace=False)\n",
       "            )\n",
       "          )\n",
       "          (intermediate): BertIntermediate(\n",
       "            (dense): Linear(in_features=768, out_features=3072, bias=True)\n",
       "            (intermediate_act_fn): GELUActivation()\n",
       "          )\n",
       "          (output): BertOutput(\n",
       "            (dense): Linear(in_features=3072, out_features=768, bias=True)\n",
       "            (LayerNorm): LayerNorm((768,), eps=1e-12, elementwise_affine=True)\n",
       "            (dropout): Dropout(p=0.1, inplace=False)\n",
       "          )\n",
       "        )\n",
       "      )\n",
       "    )\n",
       "    (pooler): BertPooler(\n",
       "      (dense): Linear(in_features=768, out_features=768, bias=True)\n",
       "      (activation): Tanh()\n",
       "    )\n",
       "  )\n",
       "  (dropout): Dropout(p=0.1, inplace=False)\n",
       "  (classifier): Linear(in_features=768, out_features=377, bias=True)\n",
       ")"
      ]
     },
     "execution_count": 29,
     "metadata": {},
     "output_type": "execute_result"
    }
   ],
   "source": [
    "model = AutoModelForSequenceClassification.from_pretrained(\"bert-base-multilingual-cased\", num_labels=num_labels)\n",
    "model.to(device)"
   ]
  },
  {
   "cell_type": "code",
   "execution_count": 30,
   "metadata": {},
   "outputs": [],
   "source": [
    "import numpy as np\n",
    "from sklearn.utils.class_weight import compute_class_weight"
   ]
  },
  {
   "cell_type": "code",
   "execution_count": 31,
   "metadata": {},
   "outputs": [],
   "source": [
    "classes = np.array(list(label_to_int.values()))\n",
    "\n",
    "# Compute class weights based on inverse frequency\n",
    "class_weights = compute_class_weight('balanced', classes=classes, y=df[\"Label\"].values)\n",
    "class_weights = torch.tensor(class_weights, dtype=torch.float).to(device)\n",
    "\n",
    "# Define weighted loss function\n",
    "loss_function = nn.CrossEntropyLoss(weight=class_weights)"
   ]
  },
  {
   "cell_type": "code",
   "execution_count": 32,
   "metadata": {},
   "outputs": [],
   "source": [
    "optimizer = optim.AdamW(model.parameters(), lr=5e-5)"
   ]
  },
  {
   "cell_type": "code",
   "execution_count": 33,
   "metadata": {},
   "outputs": [],
   "source": [
    "def train(model, train_dataloader, optimizer, lr_scheduler, num_epochs, epoch):\n",
    "    model.train()\n",
    "    total_loss, total_correct, total_samples = 0, 0, 0\n",
    "    progress_bar = tqdm(train_dataloader, desc=f\"Epoch {epoch+1}/{num_epochs}\")\n",
    "\n",
    "    for batch in progress_bar:\n",
    "        batch = {k: v.to(device) for k, v in batch.items()}\n",
    "        optimizer.zero_grad()\n",
    "\n",
    "        # Forward pass\n",
    "        outputs = model(**batch)\n",
    "        logits = outputs.logits\n",
    "        loss = loss_function(logits, batch[\"labels\"])  # Apply weighted loss\n",
    "\n",
    "        # Backward pass\n",
    "        loss.backward()\n",
    "        optimizer.step()\n",
    "        lr_scheduler.step()\n",
    "\n",
    "        # Compute loss & accuracy\n",
    "        predictions = torch.argmax(logits, dim=-1)\n",
    "        correct = (predictions == batch[\"labels\"]).sum().item()\n",
    "        \n",
    "        total_loss += loss.item()\n",
    "        total_correct += correct\n",
    "        total_samples += batch[\"labels\"].size(0)\n",
    "\n",
    "        progress_bar.set_postfix(loss=loss.item(), accuracy=correct/batch[\"labels\"].size(0))\n",
    "\n",
    "    avg_loss = total_loss / len(train_dataloader)\n",
    "    avg_accuracy = total_correct / total_samples\n",
    "    print(f\"Train Loss: {avg_loss:.4f}, Train Accuracy: {avg_accuracy:.4f}\")\n"
   ]
  },
  {
   "cell_type": "code",
   "execution_count": 34,
   "metadata": {},
   "outputs": [],
   "source": [
    "def evaluate(model, val_dataloader):\n",
    "    model.eval()\n",
    "    total_loss, total_correct, total_samples = 0, 0, 0\n",
    "\n",
    "    with torch.no_grad():\n",
    "        for batch in tqdm(val_dataloader, desc=\"Evaluating\"):\n",
    "            batch = {k: v.to(device) for k, v in batch.items()}\n",
    "            outputs = model(**batch)\n",
    "\n",
    "            loss = outputs.loss\n",
    "            logits = outputs.logits\n",
    "            predictions = torch.argmax(logits, dim=-1)\n",
    "\n",
    "            correct = (predictions == batch[\"labels\"]).sum().item()\n",
    "            total_loss += loss.item()\n",
    "            total_correct += correct\n",
    "            total_samples += batch[\"labels\"].size(0)\n",
    "\n",
    "    avg_loss = total_loss / len(val_dataloader)\n",
    "    avg_accuracy = total_correct / total_samples\n",
    "    print(f\"Validation Loss: {avg_loss:.4f}, Validation Accuracy: {avg_accuracy:.4f}\")\n",
    "    return avg_loss, avg_accuracy\n"
   ]
  },
  {
   "cell_type": "code",
   "execution_count": 35,
   "metadata": {},
   "outputs": [],
   "source": [
    "checkpoint_dir = \"checkpoints\"\n",
    "os.makedirs(checkpoint_dir, exist_ok=True) "
   ]
  },
  {
   "cell_type": "code",
   "execution_count": 36,
   "metadata": {},
   "outputs": [],
   "source": [
    "def save_checkpoint(model, optimizer, epoch, loss, accuracy, scheduler=None):\n",
    "    \"\"\"\n",
    "    Save model, optimizer state, and training progress.\n",
    "    \"\"\"\n",
    "    checkpoint = {\n",
    "        \"epoch\": epoch + 1,\n",
    "        \"model_state_dict\": model.state_dict(),\n",
    "        \"optimizer_state_dict\": optimizer.state_dict(),\n",
    "        \"loss\": loss,\n",
    "        \"accuracy\": accuracy,\n",
    "    }\n",
    "    if scheduler:\n",
    "        checkpoint[\"scheduler_state_dict\"] = scheduler.state_dict()\n",
    "\n",
    "    checkpoint_path = os.path.join(checkpoint_dir, f\"checkpoint_epoch_{epoch+1}.pt\")\n",
    "    torch.save(checkpoint, checkpoint_path)\n",
    "    print(f\"Checkpoint saved: {checkpoint_path}\")\n"
   ]
  },
  {
   "cell_type": "code",
   "execution_count": 37,
   "metadata": {},
   "outputs": [],
   "source": [
    "num_epochs = 3\n",
    "lr_scheduler = get_scheduler(\n",
    "    name=\"linear\", optimizer=optimizer, num_warmup_steps=0, num_training_steps=num_epochs * len(train_dataloader)\n",
    ")"
   ]
  },
  {
   "cell_type": "markdown",
   "metadata": {},
   "source": [
    "We first train for 3 epochs and plot the validation losses and accuracies to assess whether additional training is needed. Checkpoints are used to save progress after each epoch."
   ]
  },
  {
   "cell_type": "code",
   "execution_count": 38,
   "metadata": {},
   "outputs": [
    {
     "data": {
      "application/vnd.jupyter.widget-view+json": {
       "model_id": "b3c477ab55264e249eb64611b05b8f0c",
       "version_major": 2,
       "version_minor": 0
      },
      "text/plain": [
       "Epoch 1/3:   0%|          | 0/9504 [00:00<?, ?it/s]"
      ]
     },
     "metadata": {},
     "output_type": "display_data"
    },
    {
     "name": "stdout",
     "output_type": "stream",
     "text": [
      "Train Loss: 1.6083, Train Accuracy: 0.6181\n"
     ]
    },
    {
     "data": {
      "application/vnd.jupyter.widget-view+json": {
       "model_id": "723b62a42927441db97b04a48b2fe72e",
       "version_major": 2,
       "version_minor": 0
      },
      "text/plain": [
       "Evaluating:   0%|          | 0/2376 [00:00<?, ?it/s]"
      ]
     },
     "metadata": {},
     "output_type": "display_data"
    },
    {
     "name": "stdout",
     "output_type": "stream",
     "text": [
      "Validation Loss: 0.7015, Validation Accuracy: 0.7870\n",
      "Checkpoint saved: checkpoints\\checkpoint_epoch_1.pt\n"
     ]
    },
    {
     "data": {
      "application/vnd.jupyter.widget-view+json": {
       "model_id": "c864dc68f4174097880cfe719be3ff01",
       "version_major": 2,
       "version_minor": 0
      },
      "text/plain": [
       "Epoch 2/3:   0%|          | 0/9504 [00:00<?, ?it/s]"
      ]
     },
     "metadata": {},
     "output_type": "display_data"
    },
    {
     "name": "stdout",
     "output_type": "stream",
     "text": [
      "Train Loss: 0.5422, Train Accuracy: 0.8265\n"
     ]
    },
    {
     "data": {
      "application/vnd.jupyter.widget-view+json": {
       "model_id": "6a48705c509b4189b538c7fe3c3d2955",
       "version_major": 2,
       "version_minor": 0
      },
      "text/plain": [
       "Evaluating:   0%|          | 0/2376 [00:00<?, ?it/s]"
      ]
     },
     "metadata": {},
     "output_type": "display_data"
    },
    {
     "name": "stdout",
     "output_type": "stream",
     "text": [
      "Validation Loss: 0.5434, Validation Accuracy: 0.8359\n",
      "Checkpoint saved: checkpoints\\checkpoint_epoch_2.pt\n"
     ]
    },
    {
     "data": {
      "application/vnd.jupyter.widget-view+json": {
       "model_id": "be5f8bf961cf44aa94428157f73940f1",
       "version_major": 2,
       "version_minor": 0
      },
      "text/plain": [
       "Epoch 3/3:   0%|          | 0/9504 [00:00<?, ?it/s]"
      ]
     },
     "metadata": {},
     "output_type": "display_data"
    },
    {
     "name": "stdout",
     "output_type": "stream",
     "text": [
      "Train Loss: 0.3340, Train Accuracy: 0.8861\n"
     ]
    },
    {
     "data": {
      "application/vnd.jupyter.widget-view+json": {
       "model_id": "dca952dcebe44413b67d54a0770e75e3",
       "version_major": 2,
       "version_minor": 0
      },
      "text/plain": [
       "Evaluating:   0%|          | 0/2376 [00:00<?, ?it/s]"
      ]
     },
     "metadata": {},
     "output_type": "display_data"
    },
    {
     "name": "stdout",
     "output_type": "stream",
     "text": [
      "Validation Loss: 0.4804, Validation Accuracy: 0.8567\n",
      "Checkpoint saved: checkpoints\\checkpoint_epoch_3.pt\n"
     ]
    }
   ],
   "source": [
    "val_losses = []\n",
    "val_accuracies = []\n",
    "\n",
    "for epoch in range(num_epochs):\n",
    "    train(model, train_dataloader, optimizer, lr_scheduler, num_epochs, epoch)\n",
    "\n",
    "    val_loss, val_accuracy = evaluate(model, val_dataloader)\n",
    "    val_losses.append(val_loss)\n",
    "    val_accuracies.append(val_accuracy)\n",
    "\n",
    "    save_checkpoint(model, optimizer, epoch, val_loss, val_accuracy, scheduler=lr_scheduler)"
   ]
  },
  {
   "cell_type": "code",
   "execution_count": 38,
   "metadata": {},
   "outputs": [],
   "source": [
    "def plot_training_progress(num_epochs, val_losses, val_accuracies):\n",
    "    \"\"\" \n",
    "    Plots validation loss and accuracy over epochs.\n",
    "    \"\"\"\n",
    "    epochs = range(1, num_epochs + 1)\n",
    "    fig, axs = plt.subplots(1, 2, figsize=(12, 5))\n",
    "\n",
    "    # Plot Validation Loss\n",
    "    axs[0].plot(epochs, val_losses, label=\"Validation Loss\", marker=\"o\", linestyle=\"-\")\n",
    "    axs[0].set_xlabel(\"Epochs\")\n",
    "    axs[0].set_ylabel(\"Loss\")\n",
    "    axs[0].set_title(\"Validation Loss\")\n",
    "    axs[0].legend()\n",
    "    axs[0].grid()\n",
    "\n",
    "    # Plot Validation Accuracy\n",
    "    axs[1].plot(epochs, val_accuracies, label=\"Validation Accuracy\", marker=\"d\", linestyle=\"-\")\n",
    "    axs[1].set_xlabel(\"Epochs\")\n",
    "    axs[1].set_ylabel(\"Accuracy\")\n",
    "    axs[1].set_title(\"Validation Accuracy\")\n",
    "    axs[1].legend()\n",
    "    axs[1].grid()\n",
    "\n",
    "    plt.tight_layout()\n",
    "    plt.show()\n"
   ]
  },
  {
   "cell_type": "code",
   "execution_count": 40,
   "metadata": {},
   "outputs": [
    {
     "data": {
      "image/png": "[encoded data removed]",
      "text/plain": [
       "<Figure size 1200x500 with 2 Axes>"
      ]
     },
     "metadata": {},
     "output_type": "display_data"
    }
   ],
   "source": [
    "plot_training_progress(num_epochs, val_losses, val_accuracies)"
   ]
  },
  {
   "cell_type": "code",
   "execution_count": 49,
   "metadata": {},
   "outputs": [],
   "source": [
    "def load_checkpoint(model, optimizer, checkpoint_path, scheduler=None):\n",
    "    \"\"\"\n",
    "    Load model, optimizer, and training state from a checkpoint.\n",
    "    \"\"\"\n",
    "    checkpoint = torch.load(checkpoint_path, map_location=device, weights_only=True)\n",
    "    \n",
    "    model.load_state_dict(checkpoint[\"model_state_dict\"])\n",
    "    optimizer.load_state_dict(checkpoint[\"optimizer_state_dict\"])\n",
    "    epoch = checkpoint[\"epoch\"]  # Resumes from next epoch\n",
    "\n",
    "    if scheduler and \"scheduler_state_dict\" in checkpoint:\n",
    "        scheduler.load_state_dict(checkpoint[\"scheduler_state_dict\"])\n",
    "\n",
    "    print(f\"Checkpoint loaded: {checkpoint_path}\")\n",
    "    return epoch"
   ]
  },
  {
   "cell_type": "code",
   "execution_count": 40,
   "metadata": {},
   "outputs": [],
   "source": [
    "def resume_training(model, optimizer, train_dataloader, val_dataloader, start_epoch, num_epochs, val_losses, val_accuracies):\n",
    "    \"\"\"\n",
    "    Continues training from a saved checkpoint.\n",
    "    \"\"\"\n",
    "    lr_scheduler = get_scheduler(\n",
    "        name=\"linear\", \n",
    "        optimizer=optimizer, \n",
    "        num_warmup_steps=0, \n",
    "        num_training_steps=num_epochs * len(train_dataloader)\n",
    "    )\n",
    "\n",
    "    # Resume training from the last saved epoch\n",
    "    for epoch in range(start_epoch, num_epochs):  \n",
    "        train(model, train_dataloader, optimizer, lr_scheduler, num_epochs, epoch)\n",
    "\n",
    "        val_loss, val_accuracy = evaluate(model, val_dataloader)\n",
    "        val_losses.append(val_loss)\n",
    "        val_accuracies.append(val_accuracy)\n",
    "\n",
    "        save_checkpoint(model, optimizer, epoch, val_loss, val_accuracy, scheduler=lr_scheduler)\n",
    "    return val_losses, val_accuracies"
   ]
  },
  {
   "cell_type": "code",
   "execution_count": null,
   "metadata": {},
   "outputs": [
    {
     "name": "stdout",
     "output_type": "stream",
     "text": [
      "Checkpoint loaded: checkpoints/checkpoint_epoch_3.pt (Resuming from epoch 3)\n"
     ]
    }
   ],
   "source": [
    "latest_checkpoint = \"checkpoints/checkpoint_epoch_3.pt\"\n",
    "\n",
    "# Load model, optimizer, and scheduler from the checkpoint\n",
    "start_epoch = load_checkpoint(model, optimizer, latest_checkpoint, scheduler=lr_scheduler)"
   ]
  },
  {
   "cell_type": "markdown",
   "metadata": {},
   "source": [
    "If you closed the notebook after training for several epochs, you can run the code block below to reload the validation losses and accuracies from the checkpoints and resume training for additional epochs. Otherwise, running this step is unnecessary."
   ]
  },
  {
   "cell_type": "code",
   "execution_count": 42,
   "metadata": {},
   "outputs": [],
   "source": [
    "val_losses = []\n",
    "val_accuracies = []\n",
    "\n",
    "# Get all checkpoint files (sorted by epoch number)\n",
    "checkpoint_files = sorted(\n",
    "    [f for f in os.listdir(checkpoint_dir) if f.startswith(\"checkpoint_epoch_\")],\n",
    "    key=lambda x: int(x.split(\"_\")[-1].split(\".\")[0])  # Extract epoch number\n",
    ")\n",
    "\n",
    "# Loop through all checkpoint files and restore validation losses & accuracies\n",
    "for checkpoint_file in checkpoint_files:\n",
    "    checkpoint_path = os.path.join(checkpoint_dir, checkpoint_file)\n",
    "    checkpoint = torch.load(checkpoint_path, map_location=device, weights_only=True)\n",
    "\n",
    "    val_losses.append(checkpoint[\"loss\"])\n",
    "    val_accuracies.append(checkpoint[\"accuracy\"])"
   ]
  },
  {
   "cell_type": "code",
   "execution_count": 43,
   "metadata": {},
   "outputs": [
    {
     "name": "stdout",
     "output_type": "stream",
     "text": [
      "Restored Validation Losses: [0.701473025249173, 0.5433680943365488, 0.4804242168063602]\n",
      "Restored Validation Accuracies: [0.7869525187426016, 0.8359331842693674, 0.8566881494147047]\n"
     ]
    }
   ],
   "source": [
    "print(\"Restored Validation Losses:\", val_losses)\n",
    "print(\"Restored Validation Accuracies:\", val_accuracies)"
   ]
  },
  {
   "cell_type": "code",
   "execution_count": 44,
   "metadata": {},
   "outputs": [
    {
     "data": {
      "application/vnd.jupyter.widget-view+json": {
       "model_id": "967da2bf68384e92a9729e14ccdfc5be",
       "version_major": 2,
       "version_minor": 0
      },
      "text/plain": [
       "Epoch 4/5:   0%|          | 0/9504 [00:00<?, ?it/s]"
      ]
     },
     "metadata": {},
     "output_type": "display_data"
    },
    {
     "name": "stdout",
     "output_type": "stream",
     "text": [
      "Train Loss: 0.4714, Train Accuracy: 0.8450\n"
     ]
    },
    {
     "data": {
      "application/vnd.jupyter.widget-view+json": {
       "model_id": "cca537e28e6741faacee983354f62e5e",
       "version_major": 2,
       "version_minor": 0
      },
      "text/plain": [
       "Evaluating:   0%|          | 0/2376 [00:00<?, ?it/s]"
      ]
     },
     "metadata": {},
     "output_type": "display_data"
    },
    {
     "name": "stdout",
     "output_type": "stream",
     "text": [
      "Validation Loss: 0.5871, Validation Accuracy: 0.8285\n",
      "Checkpoint saved: checkpoints\\checkpoint_epoch_4.pt\n"
     ]
    },
    {
     "data": {
      "application/vnd.jupyter.widget-view+json": {
       "model_id": "65e30b3eac57461a83a94a9004b90b2d",
       "version_major": 2,
       "version_minor": 0
      },
      "text/plain": [
       "Epoch 5/5:   0%|          | 0/9504 [00:00<?, ?it/s]"
      ]
     },
     "metadata": {},
     "output_type": "display_data"
    },
    {
     "name": "stdout",
     "output_type": "stream",
     "text": [
      "Train Loss: 0.3405, Train Accuracy: 0.8835\n"
     ]
    },
    {
     "data": {
      "application/vnd.jupyter.widget-view+json": {
       "model_id": "daa1f3e2c336422a9ced48c4fa8701d4",
       "version_major": 2,
       "version_minor": 0
      },
      "text/plain": [
       "Evaluating:   0%|          | 0/2376 [00:00<?, ?it/s]"
      ]
     },
     "metadata": {},
     "output_type": "display_data"
    },
    {
     "name": "stdout",
     "output_type": "stream",
     "text": [
      "Validation Loss: 0.5626, Validation Accuracy: 0.8391\n",
      "Checkpoint saved: checkpoints\\checkpoint_epoch_5.pt\n"
     ]
    }
   ],
   "source": [
    "num_epochs = 5  # Increase epochs to continue training\n",
    "\n",
    "val_losses, val_accuracies = resume_training(\n",
    "    model=model,\n",
    "    optimizer=optimizer,\n",
    "    train_dataloader=train_dataloader,\n",
    "    val_dataloader=val_dataloader,\n",
    "    start_epoch=start_epoch,  # Loaded from checkpoint\n",
    "    num_epochs=num_epochs,\n",
    "    val_losses=val_losses, \n",
    "    val_accuracies=val_accuracies\n",
    ")"
   ]
  },
  {
   "cell_type": "code",
   "execution_count": 45,
   "metadata": {},
   "outputs": [
    {
     "data": {
      "image/png": "[encoded data removed]",
      "text/plain": [
       "<Figure size 1200x500 with 2 Axes>"
      ]
     },
     "metadata": {},
     "output_type": "display_data"
    }
   ],
   "source": [
    "plot_training_progress(num_epochs, val_losses, val_accuracies)"
   ]
  },
  {
   "cell_type": "markdown",
   "metadata": {},
   "source": [
    "Since validation loss increases and validation accuracy drops after epoch 3, overfitting likely starts at epoch 4."
   ]
  },
  {
   "cell_type": "code",
   "execution_count": 50,
   "metadata": {},
   "outputs": [
    {
     "name": "stdout",
     "output_type": "stream",
     "text": [
      "Checkpoint loaded: checkpoints/checkpoint_epoch_3.pt\n"
     ]
    }
   ],
   "source": [
    "best_checkpoint_path = \"checkpoints/checkpoint_epoch_3.pt\"\n",
    "best_epoch = load_checkpoint(model, optimizer, best_checkpoint_path, scheduler=lr_scheduler)"
   ]
  },
  {
   "cell_type": "code",
   "execution_count": 51,
   "metadata": {},
   "outputs": [
    {
     "name": "stdout",
     "output_type": "stream",
     "text": [
      "Model saved to fine_tuned_mBERT\n"
     ]
    }
   ],
   "source": [
    "save_directory = \"fine_tuned_mBERT\"\n",
    "model.save_pretrained(save_directory)\n",
    "tokenizer.save_pretrained(save_directory)\n",
    "\n",
    "print(f\"Model saved to {save_directory}\")"
   ]
  },
  {
   "cell_type": "markdown",
   "metadata": {},
   "source": [
    "## Evaluation"
   ]
  },
  {
   "cell_type": "code",
   "execution_count": 29,
   "metadata": {},
   "outputs": [
    {
     "data": {
      "text/plain": [
       "BertForSequenceClassification(\n",
       "  (bert): BertModel(\n",
       "    (embeddings): BertEmbeddings(\n",
       "      (word_embeddings): Embedding(119547, 768, padding_idx=0)\n",
       "      (position_embeddings): Embedding(512, 768)\n",
       "      (token_type_embeddings): Embedding(2, 768)\n",
       "      (LayerNorm): LayerNorm((768,), eps=1e-12, elementwise_affine=True)\n",
       "      (dropout): Dropout(p=0.1, inplace=False)\n",
       "    )\n",
       "    (encoder): BertEncoder(\n",
       "      (layer): ModuleList(\n",
       "        (0-11): 12 x BertLayer(\n",
       "          (attention): BertAttention(\n",
       "            (self): BertSdpaSelfAttention(\n",
       "              (query): Linear(in_features=768, out_features=768, bias=True)\n",
       "              (key): Linear(in_features=768, out_features=768, bias=True)\n",
       "              (value): Linear(in_features=768, out_features=768, bias=True)\n",
       "              (dropout): Dropout(p=0.1, inplace=False)\n",
       "            )\n",
       "            (output): BertSelfOutput(\n",
       "              (dense): Linear(in_features=768, out_features=768, bias=True)\n",
       "              (LayerNorm): LayerNorm((768,), eps=1e-12, elementwise_affine=True)\n",
       "              (dropout): Dropout(p=0.1, inplace=False)\n",
       "            )\n",
       "          )\n",
       "          (intermediate): BertIntermediate(\n",
       "            (dense): Linear(in_features=768, out_features=3072, bias=True)\n",
       "            (intermediate_act_fn): GELUActivation()\n",
       "          )\n",
       "          (output): BertOutput(\n",
       "            (dense): Linear(in_features=3072, out_features=768, bias=True)\n",
       "            (LayerNorm): LayerNorm((768,), eps=1e-12, elementwise_affine=True)\n",
       "            (dropout): Dropout(p=0.1, inplace=False)\n",
       "          )\n",
       "        )\n",
       "      )\n",
       "    )\n",
       "    (pooler): BertPooler(\n",
       "      (dense): Linear(in_features=768, out_features=768, bias=True)\n",
       "      (activation): Tanh()\n",
       "    )\n",
       "  )\n",
       "  (dropout): Dropout(p=0.1, inplace=False)\n",
       "  (classifier): Linear(in_features=768, out_features=377, bias=True)\n",
       ")"
      ]
     },
     "execution_count": 29,
     "metadata": {},
     "output_type": "execute_result"
    }
   ],
   "source": [
    "save_directory = \"fine_tuned_mBERT\"\n",
    "model = AutoModelForSequenceClassification.from_pretrained(save_directory)\n",
    "tokenizer = AutoTokenizer.from_pretrained(save_directory)\n",
    "\n",
    "device = torch.device(\"cuda\" if torch.cuda.is_available() else \"cpu\")\n",
    "model.to(device)"
   ]
  },
  {
   "cell_type": "code",
   "execution_count": 33,
   "metadata": {},
   "outputs": [],
   "source": [
    "from sklearn.metrics import classification_report, confusion_matrix\n",
    "import numpy as np\n",
    "from collections import Counter\n",
    "import seaborn as sns"
   ]
  },
  {
   "cell_type": "code",
   "execution_count": 31,
   "metadata": {},
   "outputs": [],
   "source": [
    "def evaluate_and_get_predictions(model, val_dataloader):\n",
    "    \"\"\"\n",
    "    Evaluate the model and return predictions & true labels.\n",
    "    \"\"\"\n",
    "    model.eval()\n",
    "    true_labels, pred_labels = [], []\n",
    "\n",
    "    with torch.no_grad():\n",
    "        for batch in tqdm(val_dataloader, desc=\"Evaluating\"):\n",
    "            batch = {k: v.to(device) for k, v in batch.items()}\n",
    "            outputs = model(**batch)\n",
    "\n",
    "            logits = outputs.logits\n",
    "            predictions = torch.argmax(logits, dim=-1)\n",
    "\n",
    "            true_labels.extend(batch[\"labels\"].cpu().numpy())  # Convert to list\n",
    "            pred_labels.extend(predictions.cpu().numpy())\n",
    "\n",
    "    return np.array(true_labels), np.array(pred_labels)"
   ]
  },
  {
   "cell_type": "code",
   "execution_count": 32,
   "metadata": {},
   "outputs": [
    {
     "data": {
      "application/vnd.jupyter.widget-view+json": {
       "model_id": "3dc504e0bde946b8acb18a48287e91df",
       "version_major": 2,
       "version_minor": 0
      },
      "text/plain": [
       "Evaluating:   0%|          | 0/2376 [00:00<?, ?it/s]"
      ]
     },
     "metadata": {},
     "output_type": "display_data"
    }
   ],
   "source": [
    "true_labels, pred_labels = evaluate_and_get_predictions(model, val_dataloader)"
   ]
  },
  {
   "cell_type": "code",
   "execution_count": 34,
   "metadata": {},
   "outputs": [],
   "source": [
    "int_to_label = {v: k for k, v in label_to_int.items()}\n",
    "\n",
    "true_labels = [int_to_label[label] for label in true_labels]\n",
    "pred_labels = [int_to_label[label] for label in pred_labels]"
   ]
  },
  {
   "cell_type": "code",
   "execution_count": 35,
   "metadata": {},
   "outputs": [
    {
     "name": "stdout",
     "output_type": "stream",
     "text": [
      "Top 10 Most Frequent Classes: ['tgk', 'bak', 'tat', 'crh', 'srp', 'aze', 'uzb', 'uig', 'kat', 'hin']\n"
     ]
    }
   ],
   "source": [
    "label_counts = Counter(true_labels)\n",
    "top_10_classes = [label for label, _ in label_counts.most_common(10)]\n",
    "\n",
    "print(\"Top 10 Most Frequent Classes:\", top_10_classes)"
   ]
  },
  {
   "cell_type": "code",
   "execution_count": 36,
   "metadata": {},
   "outputs": [
    {
     "name": "stdout",
     "output_type": "stream",
     "text": [
      "              precision    recall  f1-score   support\n",
      "\n",
      "         tgk       0.86      0.33      0.47       300\n",
      "         bak       0.79      0.76      0.78       200\n",
      "         tat       0.85      0.67      0.75       200\n",
      "         crh       0.99      0.90      0.94       200\n",
      "         srp       1.00      0.62      0.77       200\n",
      "         aze       0.95      0.68      0.79       200\n",
      "         uzb       0.69      0.77      0.73       200\n",
      "         uig       0.98      0.83      0.90       200\n",
      "         kat       0.99      0.87      0.93       200\n",
      "         hin       0.99      0.66      0.79       200\n",
      "\n",
      "   micro avg       0.90      0.69      0.78      2100\n",
      "   macro avg       0.91      0.71      0.78      2100\n",
      "weighted avg       0.91      0.69      0.77      2100\n",
      "\n"
     ]
    }
   ],
   "source": [
    "# Filter the labels for the top 10 classes\n",
    "filtered_indices = [i for i in range(len(true_labels)) if true_labels[i] in top_10_classes]\n",
    "\n",
    "filtered_true = [true_labels[i] for i in filtered_indices]\n",
    "filtered_pred = [pred_labels[i] for i in filtered_indices]\n",
    "\n",
    "report = classification_report(filtered_true, filtered_pred, labels=top_10_classes, target_names=top_10_classes)\n",
    "print(report)"
   ]
  },
  {
   "cell_type": "code",
   "execution_count": 37,
   "metadata": {},
   "outputs": [
    {
     "data": {
      "image/png": "[encoded data removed]",
      "text/plain": [
       "<Figure size 1000x800 with 2 Axes>"
      ]
     },
     "metadata": {},
     "output_type": "display_data"
    }
   ],
   "source": [
    "# Compute confusion matrix\n",
    "cm = confusion_matrix(filtered_true, filtered_pred, labels=top_10_classes)\n",
    "\n",
    "# Plot confusion matrix\n",
    "plt.figure(figsize=(10, 8))\n",
    "sns.heatmap(cm, annot=True, fmt=\"d\", cmap=\"Blues\", xticklabels=top_10_classes, yticklabels=top_10_classes)\n",
    "plt.xlabel(\"Predicted Labels\")\n",
    "plt.ylabel(\"True Labels\")\n",
    "plt.title(\"Confusion Matrix for Top 10 Classes\")\n",
    "plt.show()\n"
   ]
  },
  {
   "cell_type": "markdown",
   "metadata": {},
   "source": [
    "## Submission"
   ]
  },
  {
   "cell_type": "code",
   "execution_count": null,
   "metadata": {},
   "outputs": [],
   "source": [
    "test_df = pd.read_csv(\"test_without_labels.csv\")\n",
    "test_df.info()"
   ]
  },
  {
   "cell_type": "code",
   "execution_count": 54,
   "metadata": {},
   "outputs": [],
   "source": [
    "class TestDataset(Dataset):\n",
    "    def __init__(self, texts, tokenizer, max_length=256):\n",
    "        self.texts = texts\n",
    "        self.tokenizer = tokenizer\n",
    "        self.max_length = max_length\n",
    "\n",
    "    def __len__(self):\n",
    "        return len(self.texts)\n",
    "\n",
    "    def __getitem__(self, idx):\n",
    "        text = self.texts[idx]\n",
    "        encoding = self.tokenizer(text, padding=\"max_length\", truncation=True, max_length=self.max_length, return_tensors=\"pt\")\n",
    "        \n",
    "        return {key: val.squeeze(0) for key, val in encoding.items()}"
   ]
  },
  {
   "cell_type": "code",
   "execution_count": 57,
   "metadata": {},
   "outputs": [],
   "source": [
    "# Create dataset & dataloader\n",
    "test_dataset = TestDataset(test_df[\"Text\"].tolist(), tokenizer)\n",
    "test_dataloader = DataLoader(test_dataset, batch_size=16, shuffle=False)"
   ]
  },
  {
   "cell_type": "code",
   "execution_count": 58,
   "metadata": {},
   "outputs": [],
   "source": [
    "def predict_labels(dataloader, model, device):\n",
    "    \"\"\"\n",
    "    Predicts labels for a DataLoader using batch processing.\n",
    "    \"\"\"\n",
    "    model.eval()  # Set model to evaluation mode\n",
    "    predictions = []\n",
    "\n",
    "    with torch.no_grad():\n",
    "        for batch in dataloader:\n",
    "            batch = {k: v.to(device) for k, v in batch.items()}\n",
    "            outputs = model(**batch)\n",
    "            logits = outputs.logits\n",
    "            batch_predictions = torch.argmax(logits, dim=-1).cpu().tolist()  # Convert to list\n",
    "            predictions.extend(batch_predictions)\n",
    "\n",
    "    return predictions"
   ]
  },
  {
   "cell_type": "code",
   "execution_count": 59,
   "metadata": {},
   "outputs": [],
   "source": [
    "test_df[\"Label\"] = predict_labels(test_dataloader, model, device)"
   ]
  },
  {
   "cell_type": "code",
   "execution_count": 73,
   "metadata": {},
   "outputs": [],
   "source": [
    "# Create a reverse mapping: from integer back to label type\n",
    "int_to_label = {v: k for k, v in label_to_int.items()}\n",
    "test_df[\"Label\"] = test_df[\"Label\"].map(int_to_label)"
   ]
  },
  {
   "cell_type": "code",
   "execution_count": 68,
   "metadata": {},
   "outputs": [],
   "source": [
    "test_df[\"ID\"] = range(1, len(test_df) + 1)"
   ]
  },
  {
   "cell_type": "code",
   "execution_count": 74,
   "metadata": {},
   "outputs": [
    {
     "name": "stdout",
     "output_type": "stream",
     "text": [
      "<class 'pandas.core.frame.DataFrame'>\n",
      "RangeIndex: 190567 entries, 0 to 190566\n",
      "Data columns (total 4 columns):\n",
      " #   Column  Non-Null Count   Dtype \n",
      "---  ------  --------------   ----- \n",
      " 0   Usage   190567 non-null  object\n",
      " 1   Text    190567 non-null  object\n",
      " 2   Label   190567 non-null  object\n",
      " 3   ID      190567 non-null  int64 \n",
      "dtypes: int64(1), object(3)\n",
      "memory usage: 5.8+ MB\n"
     ]
    }
   ],
   "source": [
    "test_df.info()"
   ]
  },
  {
   "cell_type": "code",
   "execution_count": 75,
   "metadata": {},
   "outputs": [],
   "source": [
    "submission_df = test_df[[\"ID\", \"Label\"]]"
   ]
  },
  {
   "cell_type": "code",
   "execution_count": 76,
   "metadata": {},
   "outputs": [
    {
     "name": "stdout",
     "output_type": "stream",
     "text": [
      "<class 'pandas.core.frame.DataFrame'>\n",
      "RangeIndex: 190567 entries, 0 to 190566\n",
      "Data columns (total 2 columns):\n",
      " #   Column  Non-Null Count   Dtype \n",
      "---  ------  --------------   ----- \n",
      " 0   ID      190567 non-null  int64 \n",
      " 1   Label   190567 non-null  object\n",
      "dtypes: int64(1), object(1)\n",
      "memory usage: 2.9+ MB\n"
     ]
    }
   ],
   "source": [
    "submission_df.info()"
   ]
  },
  {
   "cell_type": "code",
   "execution_count": 77,
   "metadata": {},
   "outputs": [
    {
     "name": "stdout",
     "output_type": "stream",
     "text": [
      "Predictions saved to submission.csv\n"
     ]
    }
   ],
   "source": [
    "submission_file_path = \"submission.csv\"\n",
    "submission_df.to_csv(submission_file_path, index=False)\n",
    "\n",
    "print(f\"Predictions saved to {submission_file_path}\")"
   ]
  }
 ],
 "metadata": {
  "kernelspec": {
   "display_name": "base",
   "language": "python",
   "name": "python3"
  },
  "language_info": {
   "codemirror_mode": {
    "name": "ipython",
    "version": 3
   },
   "file_extension": ".py",
   "mimetype": "text/x-python",
   "name": "python",
   "nbconvert_exporter": "python",
   "pygments_lexer": "ipython3",
   "version": "3.9.18"
  }
 },
 "nbformat": 4,
 "nbformat_minor": 2
}
